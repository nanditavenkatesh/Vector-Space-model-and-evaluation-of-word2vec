{
  "nbformat": 4,
  "nbformat_minor": 0,
  "metadata": {
    "colab": {
      "provenance": [],
      "gpuType": "T4",
      "include_colab_link": true
    },
    "kernelspec": {
      "name": "python3",
      "display_name": "Python 3"
    },
    "language_info": {
      "name": "python"
    },
    "accelerator": "GPU"
  },
  "cells": [
    {
      "cell_type": "markdown",
      "metadata": {
        "id": "view-in-github",
        "colab_type": "text"
      },
      "source": [
        "<a href=\"https://colab.research.google.com/github/nanditavenkatesh/Vector-Space-model-and-evaluation-of-word2vec/blob/main/Vector_Space_model_and_evaluation_of_word2vec.ipynb\" target=\"_parent\"><img src=\"https://colab.research.google.com/assets/colab-badge.svg\" alt=\"Open In Colab\"/></a>"
      ]
    },
    {
      "cell_type": "markdown",
      "source": [
        "References\n",
        "1. Python File Open. (2019). W3schools.com. https://www.w3schools.com/python/python_file_open.asp\n",
        "\n",
        "2. How to count the occurrences of a list item? (n.d.). Www.tutorialsteacher.com. Retrieved from https://www.tutorialsteacher.com/articles/how-to-count-occurences-of-list-items-in-python\n",
        "\n",
        "3. Gern Blanston. (2009, March 5). How do I sort a dictionary by value? Stack Overflow. https://stackoverflow.com/questions/613183/how-do-i-sort-a-dictionary-by-value\n",
        "\n",
        "4. Python | Get dictionary keys as a list. (2019, January 28). GeeksforGeeks. https://www.geeksforgeeks.org/python-get-dictionary-keys-as-a-list/\n",
        "\n",
        "5. Efficiently count zero elements in numpy array? (n.d.). Stack Overflow. Retrieved from https://stackoverflow.com/questions/42916330/efficiently-count-zero-elements-in-numpy-array\n",
        "\n",
        "6. sklearn.metrics.pairwise.cosine_similarity. (n.d.). Scikit-Learn. https://scikit-learn.org/stable/modules/generated/sklearn.metrics.pairwise.cosine_similarity.html\n",
        "\n",
        "7. How do I get indices of N maximum values in a NumPy array? (n.d.). Stack Overflow. https://stackoverflow.com/questions/6910641/how-do-i-get-indices-of-n-maximum-values-in-a-numpy-array\n",
        "\n",
        "8. numpy.fill_diagonal — NumPy v1.26 Manual. (n.d.). Numpy.org. Retrieved from https://numpy.org/doc/stable/reference/generated/numpy.fill_diagonal.html\n",
        "\n",
        "9. NLTK :: Sample usage for gensim. (n.d.). Www.nltk.org. https://www.nltk.org/howto/gensim.html\n",
        "\n",
        "10. How to get the dimensions of a word2vec vector? (n.d.). Stack Overflow. Retrieved from https://stackoverflow.com/questions/71792841/how-to-get-the-dimensions-of-a-word2vec-vector\n",
        "\n",
        "11. how to split a text file into multiple list based on whitespacing in python? (n.d.). Stack Overflow. Retrieved from https://stackoverflow.com/questions/28018285/how-to-split-a-text-file-into-multiple-list-based-on-whitespacing-in-python\n",
        "\n",
        "12. Python Multiprocessing Example | DigitalOcean. (n.d.). Www.digitalocean.com. https://www.digitalocean.com/community/tutorials/python-multiprocessing-example\n",
        "\n",
        "13. How to check if a key exists in a word2vec trained model or not. (n.d.). Stack Overflow. Retrieved from https://stackoverflow.com/questions/30301922/how-to-check-if-a-key-exists-in-a-word2vec-trained-model-or-not\n",
        "\n",
        "\n",
        "14. python - Scatter plot with different text at each data point. (n.d.). Stack Overflow. https://stackoverflow.com/questions/14432557/scatter-plot-with-different-text-at-each-data-point\n",
        "\n",
        "15. How to calculate a logistic sigmoid function in Python? (n.d.). Stack Overflow. Retrieved from https://stackoverflow.com/questions/3985619/how-to-calculate-a-logistic-sigmoid-function-in-python\n"
      ],
      "metadata": {
        "id": "ppKPRzANktge"
      }
    },
    {
      "cell_type": "code",
      "execution_count": null,
      "metadata": {
        "colab": {
          "base_uri": "https://localhost:8080/"
        },
        "id": "A5VnRi3LkFDf",
        "outputId": "4e4fdbda-46a7-4b86-eb73-cc40b844152c"
      },
      "outputs": [
        {
          "output_type": "stream",
          "name": "stdout",
          "text": [
            "--2024-02-19 01:21:52--  https://raw.githubusercontent.com/nanditavenkatesh/CSCI_6515_NLU/main/HW2/analogies.txt\n",
            "Resolving raw.githubusercontent.com (raw.githubusercontent.com)... 185.199.108.133, 185.199.109.133, 185.199.110.133, ...\n",
            "Connecting to raw.githubusercontent.com (raw.githubusercontent.com)|185.199.108.133|:443... connected.\n",
            "HTTP request sent, awaiting response... 200 OK\n",
            "Length: 603955 (590K) [text/plain]\n",
            "Saving to: ‘analogies.txt’\n",
            "\n",
            "analogies.txt       100%[===================>] 589.80K  3.75MB/s    in 0.2s    \n",
            "\n",
            "2024-02-19 01:21:52 (3.75 MB/s) - ‘analogies.txt’ saved [603955/603955]\n",
            "\n",
            "--2024-02-19 01:21:52--  http://analogies.txt/\n",
            "Resolving analogies.txt (analogies.txt)... failed: Name or service not known.\n",
            "wget: unable to resolve host address ‘analogies.txt’\n",
            "FINISHED --2024-02-19 01:21:52--\n",
            "Total wall clock time: 0.7s\n",
            "Downloaded: 1 files, 590K in 0.2s (3.75 MB/s)\n",
            "--2024-02-19 01:21:52--  https://raw.githubusercontent.com/nanditavenkatesh/CSCI_6515_NLU/main/HW2/brown100k.txt\n",
            "Resolving raw.githubusercontent.com (raw.githubusercontent.com)... 185.199.108.133, 185.199.111.133, 185.199.110.133, ...\n",
            "Connecting to raw.githubusercontent.com (raw.githubusercontent.com)|185.199.108.133|:443... connected.\n",
            "HTTP request sent, awaiting response... 200 OK\n",
            "Length: 580637 (567K) [text/plain]\n",
            "Saving to: ‘brown100k.txt’\n",
            "\n",
            "brown100k.txt       100%[===================>] 567.03K  3.64MB/s    in 0.2s    \n",
            "\n",
            "2024-02-19 01:21:53 (3.64 MB/s) - ‘brown100k.txt’ saved [580637/580637]\n",
            "\n",
            "--2024-02-19 01:21:53--  http://brown100k.txt/\n",
            "Resolving brown100k.txt (brown100k.txt)... failed: Name or service not known.\n",
            "wget: unable to resolve host address ‘brown100k.txt’\n",
            "FINISHED --2024-02-19 01:21:53--\n",
            "Total wall clock time: 0.7s\n",
            "Downloaded: 1 files, 567K in 0.2s (3.64 MB/s)\n",
            "--2024-02-19 01:21:53--  https://raw.githubusercontent.com/nanditavenkatesh/CSCI_6515_NLU/main/HW2/toefl.txt\n",
            "Resolving raw.githubusercontent.com (raw.githubusercontent.com)... 185.199.108.133, 185.199.109.133, 185.199.110.133, ...\n",
            "Connecting to raw.githubusercontent.com (raw.githubusercontent.com)|185.199.108.133|:443... connected.\n",
            "HTTP request sent, awaiting response... 200 OK\n",
            "Length: 3479 (3.4K) [text/plain]\n",
            "Saving to: ‘toefl.txt’\n",
            "\n",
            "toefl.txt           100%[===================>]   3.40K  --.-KB/s    in 0s      \n",
            "\n",
            "2024-02-19 01:21:54 (45.5 MB/s) - ‘toefl.txt’ saved [3479/3479]\n",
            "\n",
            "--2024-02-19 01:21:54--  http://toefl.txt/\n",
            "Resolving toefl.txt (toefl.txt)... failed: Name or service not known.\n",
            "wget: unable to resolve host address ‘toefl.txt’\n",
            "FINISHED --2024-02-19 01:21:54--\n",
            "Total wall clock time: 0.5s\n",
            "Downloaded: 1 files, 3.4K in 0s (45.5 MB/s)\n"
          ]
        }
      ],
      "source": [
        "#@title Get Data\n",
        "# copy files onto google collab from github\n",
        "!wget \"https://raw.githubusercontent.com/nanditavenkatesh/CSCI_6515_NLU/main/HW2/analogies.txt\" \"analogies.txt\"\n",
        "!wget \"https://raw.githubusercontent.com/nanditavenkatesh/CSCI_6515_NLU/main/HW2/brown100k.txt\" \"brown100k.txt\"\n",
        "!wget \"https://raw.githubusercontent.com/nanditavenkatesh/CSCI_6515_NLU/main/HW2/toefl.txt\" \"toefl.txt\""
      ]
    },
    {
      "cell_type": "code",
      "source": [
        "#@title Imports\n",
        "\n",
        "import pandas as pd\n",
        "import numpy as np\n",
        "from itertools import islice\n",
        "from sklearn.metrics.pairwise import cosine_similarity\n",
        "from numpy import unravel_index\n",
        "import gensim.downloader\n",
        "import random\n",
        "import matplotlib.pyplot as plt\n",
        "import math"
      ],
      "metadata": {
        "id": "u1gSqDAEnT1g"
      },
      "execution_count": null,
      "outputs": []
    },
    {
      "cell_type": "markdown",
      "source": [
        "##Part 1 - Train sparse word vectors"
      ],
      "metadata": {
        "id": "5QfC3SH4k4aS"
      }
    },
    {
      "cell_type": "markdown",
      "source": [
        "### Data Pre-processing"
      ],
      "metadata": {
        "id": "YNz0A50D716a"
      }
    },
    {
      "cell_type": "code",
      "source": [
        "# read brown100k\n",
        "f = open(\"brown100k.txt\", \"r\")\n",
        "brown100k = f.read()"
      ],
      "metadata": {
        "id": "8NKSbvx2n3Gz"
      },
      "execution_count": null,
      "outputs": []
    },
    {
      "cell_type": "code",
      "source": [
        "# spilt into tokens\n",
        "token_brown = brown100k.lower().split()"
      ],
      "metadata": {
        "id": "22K_S9qryxYv"
      },
      "execution_count": null,
      "outputs": []
    },
    {
      "cell_type": "code",
      "source": [
        "# counting the occurrences of each word and storing them in a dictionary\n",
        "word_count = {}\n",
        "\n",
        "# get the set of unique words from the full text and counting the occurences of the word\n",
        "contextSet = list(set(token_brown))\n",
        "\n",
        "for word in token_brown:\n",
        "    if word in word_count:\n",
        "        word_count[word] += 1\n",
        "    else:\n",
        "        word_count[word] = 1\n",
        "\n",
        "# sorting the words in descending order of frequency\n",
        "word_count = {k: v for k, v in sorted(word_count.items(), key=lambda val: val[1], reverse = True)}"
      ],
      "metadata": {
        "id": "SwE1QkbwzfJu"
      },
      "execution_count": null,
      "outputs": []
    },
    {
      "cell_type": "code",
      "source": [
        "# take 1000 most frequent words and store in a list\n",
        "key_list = list(word_count.keys())\n",
        "vocab = key_list[:1000]"
      ],
      "metadata": {
        "id": "ZA8MUjQxCFrl"
      },
      "execution_count": null,
      "outputs": []
    },
    {
      "cell_type": "code",
      "source": [
        "# Computing the term-term matrix\n",
        "\n",
        "term_term_matrix = np.zeros((len(vocab),len(contextSet)))\n",
        "\n",
        "for i,vocab_word in enumerate(vocab):\n",
        "  for j,token_word in enumerate(token_brown):\n",
        "    # check if the vocab word is found in the text file\n",
        "    if vocab_word == token_word:\n",
        "      # setting context length of 2 before and after the word\n",
        "      start_context = max(0,j-2)\n",
        "      end_context = min(len(token_brown),j+3)\n",
        "      contextwords = token_brown[start_context:j] + token_brown[j + 1:end_context]\n",
        "      # update the count of the word found in the term-term matrix\n",
        "      for words in contextwords:\n",
        "        term_term_matrix[vocab.index(vocab_word)][contextSet.index(words)] += 1"
      ],
      "metadata": {
        "id": "uuAa7I_qRcb8"
      },
      "execution_count": null,
      "outputs": []
    },
    {
      "cell_type": "code",
      "source": [
        "term_term_matrix.shape"
      ],
      "metadata": {
        "colab": {
          "base_uri": "https://localhost:8080/"
        },
        "id": "KYosUCl5L25O",
        "outputId": "fca307a9-78e8-4e4e-bd0f-4e9849cfe260"
      },
      "execution_count": null,
      "outputs": [
        {
          "output_type": "execute_result",
          "data": {
            "text/plain": [
              "(1000, 13656)"
            ]
          },
          "metadata": {},
          "execution_count": 8
        }
      ]
    },
    {
      "cell_type": "code",
      "source": [
        "#@title Find percentage of zeros\n",
        "number_of_zeros = 0\n",
        "\n",
        "# count all the zeros\n",
        "number_of_zeros = np.count_nonzero(term_term_matrix == 0)\n",
        "print(\"Number of zeros = \", number_of_zeros)\n",
        "\n",
        "# compute frequency\n",
        "freq_of_zeros = (number_of_zeros/(term_term_matrix.shape[0] * term_term_matrix.shape[1])) * 100\n",
        "print(\"Frequency of Number of zeros = \", freq_of_zeros)"
      ],
      "metadata": {
        "colab": {
          "base_uri": "https://localhost:8080/"
        },
        "id": "P6fWNtAPw_OM",
        "outputId": "cbe21ca5-e905-418a-f931-f6e9e85d0a67"
      },
      "execution_count": null,
      "outputs": [
        {
          "output_type": "stream",
          "name": "stdout",
          "text": [
            "Number of zeros =  13515296\n",
            "Frequency of Number of zeros =  98.96965436438195\n"
          ]
        }
      ]
    },
    {
      "cell_type": "code",
      "source": [
        "#@title Cosine Similarity\n",
        "picked_word = \"president\"\n",
        "# get the vector of the picked word\n",
        "picked_word_vector = term_term_matrix[vocab.index(picked_word)].reshape(1, -1)\n",
        "# compute the similarity and store in a single dimensional array\n",
        "word_similarity = cosine_similarity(picked_word_vector,term_term_matrix)[0]\n",
        "\n",
        "# find the top 20 most similar values\n",
        "top_similar_words_index = word_similarity.argsort()[::-1][1:21]\n",
        "\n",
        "# get the index of the most similar words and make a list of the words\n",
        "top_similar_words = []\n",
        "for index in top_similar_words_index:\n",
        "  top_similar_words.append(vocab[index])\n",
        "\n",
        "print(\"List of 20 top similar words are: \", top_similar_words)"
      ],
      "metadata": {
        "colab": {
          "base_uri": "https://localhost:8080/"
        },
        "id": "678qSjJjx8lt",
        "outputId": "57bce040-3ef7-4e49-e65a-2e8ab0752768"
      },
      "execution_count": null,
      "outputs": [
        {
          "output_type": "stream",
          "name": "stdout",
          "text": [
            "List of 20 top similar words are:  ['state', 'first', 'most', 'government', 'administration', 'legislature', 'national', 'house', 'problem', 'in', 'on', 'meeting', 'city', 'and', 'board', 'world', 'battle', 'of', 'value', 'present']\n"
          ]
        }
      ]
    },
    {
      "cell_type": "markdown",
      "source": [
        "**(i)** Pick a favorite word in the vocabulary. Show the 20 closest words to\n",
        "the chosen word, calculated using the cosine similarity metric. Are these\n",
        "what were expected? Why or why not?\n",
        "\n",
        "**Ans:** I chose the word \"president\".\n",
        "\n",
        "List of 20 top similar words are: 'state', 'first', 'most', 'government', 'administration', 'legislature', 'national', 'house', 'problem', 'in', 'on', 'meeting', 'city', 'and', 'board', 'world', 'battle', 'of', 'value', 'present'\n",
        "\n",
        "Some words are related to the word 'president,' like government, national, administration, and legislature, but some stop words were also observed. However, there is some relationship that I could observe between the other words and the word 'president,' so they are somewhat related. They are syntactically related."
      ],
      "metadata": {
        "id": "gcM6NIIrx96m"
      }
    },
    {
      "cell_type": "code",
      "source": [
        "#@title Most Similar and Most Distinct Word\n",
        "\n",
        "term_term_cosine_similarity = cosine_similarity(term_term_matrix)\n",
        "\n",
        "# Most distinct i.e. least similar\n",
        "distinct_index = unravel_index(term_term_cosine_similarity.argmin(), term_term_cosine_similarity.shape)\n",
        "print(\"The most distinct words are: \",vocab[distinct_index[0]],\" and \" ,vocab[distinct_index[1]])\n",
        "# Most Similar\n",
        "# first remove similarity scores of the words with itself\n",
        "term_term_cosine_similarity_copy = term_term_cosine_similarity.copy()\n",
        "np.fill_diagonal(term_term_cosine_similarity_copy, -1)\n",
        "similar_index = unravel_index(term_term_cosine_similarity_copy.argmax(), term_term_cosine_similarity_copy.shape)\n",
        "print(\"The most similar words are: \",vocab[similar_index[0]],\" and \" ,vocab[similar_index[1]])"
      ],
      "metadata": {
        "colab": {
          "base_uri": "https://localhost:8080/"
        },
        "id": "_EwiaSmBMEdi",
        "outputId": "797ca2a8-da78-4ed2-98bf-4acc1987bf17"
      },
      "execution_count": null,
      "outputs": [
        {
          "output_type": "stream",
          "name": "stdout",
          "text": [
            "The most distinct words are:  own  and  ap\n",
            "The most similar words are:  in  and  on\n"
          ]
        }
      ]
    },
    {
      "cell_type": "markdown",
      "source": [
        "**(ii)** Which two words in the vocabulary are most distinct? Which are most\n",
        "similar to each other? Analyze the results obtained.\n",
        "\n",
        "**Ans:** The most distinct words are:  'own'  and  'ap', The most similar words are:  'in'  and  'on'.\n",
        "For the most distinct words, own is said to the most distinct from AP (which stands for associated press) this doesn't make a lot of sense to me as AP is an abbreviation and dissimilarity is subjective.\n",
        "For the most similar words 'in' and 'on' they make a little more sense than the Dissimilar words. These two prepositions can mean similar things and are most grammatically interchanged incorrectly among non-native English speakers, so it can be deduced that they are similar."
      ],
      "metadata": {
        "id": "OB01xdVd7deu"
      }
    },
    {
      "cell_type": "code",
      "source": [
        "#@title Pre-trained word2vec\n",
        "GoogleNews_vectors = gensim.downloader.load('word2vec-google-news-300')"
      ],
      "metadata": {
        "id": "P-9c9Asutd1q",
        "colab": {
          "base_uri": "https://localhost:8080/"
        },
        "outputId": "e9279efd-bd20-445a-c7fc-1c68ae6f2781"
      },
      "execution_count": null,
      "outputs": [
        {
          "output_type": "stream",
          "name": "stdout",
          "text": [
            "[==================================================] 100.0% 1662.8/1662.8MB downloaded\n"
          ]
        }
      ]
    },
    {
      "cell_type": "code",
      "source": [
        "vector_dimension = GoogleNews_vectors.vector_size\n",
        "print(\"Dimensions of the pre-trained vector: \", vector_dimension)"
      ],
      "metadata": {
        "colab": {
          "base_uri": "https://localhost:8080/"
        },
        "id": "pNTC2V2D2CBk",
        "outputId": "a0c06144-aee6-42a6-9624-c927e550b7b1"
      },
      "execution_count": null,
      "outputs": [
        {
          "output_type": "stream",
          "name": "stdout",
          "text": [
            "Dimensions of the pre-trained vector:  300\n"
          ]
        }
      ]
    },
    {
      "cell_type": "markdown",
      "source": [
        "**(i)** Describe the pre-trained vectors. What are their dimensions? What data\n",
        "were they pre-trained on? How many word tokens were they pre-trained\n",
        "on?\n",
        "\n",
        "**Ans:** The pre-trained vectors are trained from a word2vec model and they are embeddings trained on GoogleNews. The model consists of vectors having a dimension of 300 and for 3 million words and phrases."
      ],
      "metadata": {
        "id": "RmUlicCCTILI"
      }
    },
    {
      "cell_type": "code",
      "source": [
        "#@title Finding the 20 closest words\n",
        "print(GoogleNews_vectors.most_similar(positive=['president'], topn = 20))"
      ],
      "metadata": {
        "id": "Y3xK4Y916Nur",
        "colab": {
          "base_uri": "https://localhost:8080/"
        },
        "outputId": "e1c8a4da-77f1-436f-e4f7-ce7aa7e0eb41"
      },
      "execution_count": null,
      "outputs": [
        {
          "output_type": "stream",
          "name": "stdout",
          "text": [
            "[('President', 0.800627589225769), ('chairman', 0.6708744764328003), ('vice_president', 0.6700226068496704), ('chief_executive', 0.6691274642944336), ('CEO', 0.6590125560760498), ('pesident', 0.6265207529067993), ('Vice_President', 0.6216662526130676), ('executive', 0.6182477474212646), ('prez', 0.5761911273002625), ('Presdient', 0.5718376636505127), ('Chairman', 0.571763813495636), ('Executive_Director', 0.567531406879425), ('vicepresident', 0.5672553777694702), ('presidents', 0.5596362352371216), ('COO', 0.5593265295028687), ('chairperson', 0.5558380484580994), ('chief', 0.5507432222366333), ('founder', 0.5482356548309326), ('director', 0.5386192202568054), ('vice_presidents', 0.5310230255126953)]\n"
          ]
        }
      ]
    },
    {
      "cell_type": "markdown",
      "source": [
        "**(ii)** Using the same word as above, show the 20 closest words to it, using\n",
        "cosine similarity. Has anything changed? Analyze.\n",
        "\n",
        "**Ans:** Using the word 'president' the 20 closest words were: 'President', 'chairman', 'vice_president', 'chief_executive', 'CEO', 'pesident','Vice_President', 'executive', 'prez', 'Presdient', 'Chairman', 'Executive_Director', 'vicepresident', 'presidents', 'COO', 'chairperson', 'chief', 'founder', 'director', 'vice_presidents'\n",
        "\n",
        "Yes, the 20 closest words to 'president' were synonyms with the role/position, whereas, with a term-term matrix of context size two, the 20 most similar words are more syntactical.\n",
        "\n",
        "This is expected because, with a smaller context size we expect to see syntactic relationships more than symantic relationships. Also, the brown corpus used is trained on a much smaller number of tokens than the pre-trained model; hence, there might be tokens in the pre-trained model that the term-term matrix may have never seen."
      ],
      "metadata": {
        "id": "KbSS-H5RTMh_"
      }
    },
    {
      "cell_type": "markdown",
      "source": [
        "**(iv)** Which of the two embeddings seem better, based on results?\n",
        "\n",
        "**Ans:** I think each embedding has its own use case; while word2vec captures more data, and term-term matrices are sparse, the term-term matrix capture syntactic information, and word2vec captured semantic information. Word2vec is also more accurate and does not capture stop words."
      ],
      "metadata": {
        "id": "o0vYOSqhTTKY"
      }
    },
    {
      "cell_type": "markdown",
      "source": [
        "## Part 2 - Skip Grams"
      ],
      "metadata": {
        "id": "DjyB401aDRz_"
      }
    },
    {
      "cell_type": "code",
      "source": [
        "# initalize points\n",
        "data_points = {\"w_cat\": np.array([1,1]), \"c_remote\": np.array([0,1]), \"c_oatmeal\": np.array([0, -1]), \"c_litter\": np.array([1,0])}"
      ],
      "metadata": {
        "id": "0J02MbwSESYy"
      },
      "execution_count": null,
      "outputs": []
    },
    {
      "cell_type": "markdown",
      "source": [
        "####(1) Plot these four vectors.\n",
        "\n",
        "**Ans:** Plotted below"
      ],
      "metadata": {
        "id": "DD-kNHTrcK18"
      }
    },
    {
      "cell_type": "code",
      "source": [
        "# plot the points in a graph\n",
        "x_coords = []\n",
        "y_coords = []\n",
        "for x in data_points:\n",
        "  x_coords.append(data_points[x][0])\n",
        "  y_coords.append(data_points[x][1])\n",
        "\n",
        "dp_labels = list(data_points.keys())\n",
        "\n",
        "fig, ax = plt.subplots()\n",
        "ax.scatter(x_coords, y_coords)\n",
        "plt.grid(True)\n",
        "plt.title('Initial Word Embeddings')\n",
        "\n",
        "for i, txt in enumerate(dp_labels):\n",
        "    ax.annotate(txt, (x_coords[i], y_coords[i]))\n"
      ],
      "metadata": {
        "colab": {
          "base_uri": "https://localhost:8080/",
          "height": 452
        },
        "id": "p6vNVRQwbpac",
        "outputId": "abf78bf4-310e-4df1-b4a0-957523df73b2"
      },
      "execution_count": null,
      "outputs": [
        {
          "output_type": "display_data",
          "data": {
            "text/plain": [
              "<Figure size 640x480 with 1 Axes>"
            ],
            "image/png": "[encoded data removed]"
          },
          "metadata": {}
        }
      ]
    },
    {
      "cell_type": "code",
      "source": [
        "#@title Compute sigmoid\n",
        "\n",
        "def sigmoid(w,c):\n",
        "  return 1 / (1 + math.exp(-c @ w))"
      ],
      "metadata": {
        "id": "QXF5boAqbsDd"
      },
      "execution_count": null,
      "outputs": []
    },
    {
      "cell_type": "code",
      "source": [
        "#@title Compute probability\n",
        "P = []\n",
        "for i in range (len(dp_labels)):\n",
        "  if i != 0:\n",
        "    P.append(sigmoid(data_points[dp_labels[0]], data_points[dp_labels[i]]))\n",
        "\n",
        "print(\"Initial Probabilities: \", P)"
      ],
      "metadata": {
        "colab": {
          "base_uri": "https://localhost:8080/"
        },
        "id": "G8ommArrbthr",
        "outputId": "57f37e61-7388-40a9-b574-d2836b5252fd"
      },
      "execution_count": null,
      "outputs": [
        {
          "output_type": "stream",
          "name": "stdout",
          "text": [
            "Initial Probabilities:  [0.7310585786300049, 0.2689414213699951, 0.7310585786300049]\n"
          ]
        }
      ]
    },
    {
      "cell_type": "markdown",
      "source": [
        "#### 2) For each of the three tuples in our training example, does the model output that they are context pairs or not? Is the model correct?\n",
        "\n",
        "**Ans:** The model prediction is incorrect for c_remote. The actual prediction should be 0, but instead, it is 1."
      ],
      "metadata": {
        "id": "R6fhtrX7chd_"
      }
    },
    {
      "cell_type": "code",
      "source": [
        "#@title Compute predictions\n",
        "initial_preds = [1 if x > 0.5 else 0 for x in P]\n",
        "print(\"Initial Predictions: \", initial_preds)"
      ],
      "metadata": {
        "colab": {
          "base_uri": "https://localhost:8080/"
        },
        "id": "v7Iey_7EbvqD",
        "outputId": "37a0b24f-0aab-4e70-e1cb-750f7baa5cc8"
      },
      "execution_count": null,
      "outputs": [
        {
          "output_type": "stream",
          "name": "stdout",
          "text": [
            "Initial Predictions:  [1, 0, 1]\n"
          ]
        }
      ]
    },
    {
      "cell_type": "markdown",
      "source": [
        "\n",
        "#### (3) We begin to train our model to arrive at target and context word vectors that will maximize the probability that positive examples are labeled as occurring together and maximize the probability that negative examples are labeled as *not* occurring together using the loss function defined in (6.34 in SLP).\n"
      ],
      "metadata": {
        "id": "JQ7LBSqcdSjw"
      }
    },
    {
      "cell_type": "code",
      "source": [
        "#@title Compute the loss\n",
        "\n",
        "y_expected_labels = [-1,0, 0, 1]\n",
        "\n",
        "def loss_function(point_vectors):\n",
        "    loss = 0\n",
        "    for x in range(1, len(dp_labels)):\n",
        "        if y_expected_labels[x] == 1:\n",
        "            loss += math.log(sigmoid(point_vectors[dp_labels[0]], point_vectors[dp_labels[x]]))\n",
        "        elif y_expected_labels[x] == 0:\n",
        "            loss += math.log(sigmoid(point_vectors[dp_labels[0]], -point_vectors[dp_labels[x]]))\n",
        "    return loss\n",
        "\n",
        "print(\"Initial loss: \", loss_function(data_points))"
      ],
      "metadata": {
        "colab": {
          "base_uri": "https://localhost:8080/"
        },
        "id": "TKTrUQ3CbxFW",
        "outputId": "40521be0-6ecd-4c52-eff3-65c9dde4e35d"
      },
      "execution_count": null,
      "outputs": [
        {
          "output_type": "stream",
          "name": "stdout",
          "text": [
            "Initial loss:  -1.9397850625546684\n"
          ]
        }
      ]
    },
    {
      "cell_type": "markdown",
      "source": [
        "What is the current loss value?\n",
        "\n",
        "**Ans:** Current loss value is:  -1.9397850625546684"
      ],
      "metadata": {
        "id": "UIbnTf2jdmx1"
      }
    },
    {
      "cell_type": "markdown",
      "source": [
        "####(4) We perform gradient descent to update our vectors and Step through one step of stochastic gradient descent (considering all three example tuples as one step) and setting the learning rate η = 1."
      ],
      "metadata": {
        "id": "FdpoEHhed4N4"
      }
    },
    {
      "cell_type": "code",
      "source": [
        "#@title Stochastic gradient descent\n",
        "\n",
        "new_data_points = {}\n",
        "learning_rate = 1\n",
        "\n",
        "\n",
        "for x in range(len(dp_labels)):\n",
        "  # for positive context\n",
        "  if y_expected_labels[x] == 1:\n",
        "      new_data_points[dp_labels[x]] = data_points[dp_labels[x]] - learning_rate * (sigmoid(data_points[dp_labels[0]], data_points[dp_labels[x]]) - 1) * data_points[dp_labels[0]]\n",
        "  # for negative context\n",
        "  elif y_expected_labels[x] == 0:\n",
        "     new_data_points[dp_labels[x]] = data_points[dp_labels[x]] - learning_rate * (sigmoid(data_points[dp_labels[0]], data_points[dp_labels[x]])) * data_points[dp_labels[0]]\n",
        "  # for word\n",
        "  else:\n",
        "    temp = 0\n",
        "    for i in range(1, len(dp_labels)):\n",
        "      if y_expected_labels[i] == 1:\n",
        "          temp += (sigmoid(data_points[dp_labels[0]], data_points[dp_labels[i]]) - 1) * data_points[dp_labels[i]]\n",
        "      elif y_expected_labels[i] == 0:\n",
        "        temp += (sigmoid(data_points[dp_labels[0]], data_points[dp_labels[i]])) * data_points[dp_labels[i]]\n",
        "    new_data_points[dp_labels[x]] = data_points[dp_labels[0]] - learning_rate * temp"
      ],
      "metadata": {
        "id": "u_bKeljSby00"
      },
      "execution_count": null,
      "outputs": []
    },
    {
      "cell_type": "code",
      "source": [
        "for key in new_data_points:\n",
        "  print (key, \": \", new_data_points[key])"
      ],
      "metadata": {
        "colab": {
          "base_uri": "https://localhost:8080/"
        },
        "id": "CvGZuA5db1P9",
        "outputId": "39243f3b-43e8-4369-8923-b04745658f54"
      },
      "execution_count": null,
      "outputs": [
        {
          "output_type": "stream",
          "name": "stdout",
          "text": [
            "w_cat :  [1.26894142 0.53788284]\n",
            "c_remote :  [-0.73105858  0.26894142]\n",
            "c_oatmeal :  [-0.26894142 -1.26894142]\n",
            "c_litter :  [1.26894142 0.26894142]\n"
          ]
        }
      ]
    },
    {
      "cell_type": "markdown",
      "source": [
        "What are the updated vectors?\n",
        "\n",
        "**Ans:** These are the updated values of the vectors:\n",
        "<br>w_cat :  [1.26894142, 0.53788284]\n",
        "<br>c_remote :  [-0.73105858,  0.26894142]\n",
        "<br>c_oatmeal :  [-0.26894142, -1.26894142]\n",
        "<br>c_litter :  [1.26894142, 0.26894142]"
      ],
      "metadata": {
        "id": "JP_yo2BUd9TT"
      }
    },
    {
      "cell_type": "code",
      "source": [
        "#@title Plotting the new points in a graph\n",
        "x_coords_new = []\n",
        "y_coords_new = []\n",
        "x_coords = []\n",
        "y_coords = []\n",
        "for x in data_points:\n",
        "    x_coords_new.append(new_data_points[x][0])\n",
        "    y_coords_new.append(new_data_points[x][1])\n",
        "    x_coords.append(data_points[x][0])\n",
        "    y_coords.append(data_points[x][1])\n",
        "\n",
        "dp_labels = list(data_points.keys())\n",
        "\n",
        "fig, ax = plt.subplots()\n",
        "ax.scatter(x_coords, y_coords, color='green', label='Old Coordinates')\n",
        "ax.scatter(x_coords_new, y_coords_new, color='orange', label='New Coordinates')\n",
        "plt.grid(True)\n",
        "plt.title('Initial vs New Word Embeddings')\n",
        "plt.legend()\n",
        "\n",
        "for i, txt in enumerate(dp_labels):\n",
        "    ax.annotate(txt, (x_coords[i], y_coords[i]))\n",
        "\n",
        "for i, txt in enumerate(dp_labels):\n",
        "    ax.annotate(txt, (x_coords_new[i], y_coords_new[i]))\n",
        "\n",
        "plt.show()"
      ],
      "metadata": {
        "colab": {
          "base_uri": "https://localhost:8080/",
          "height": 452
        },
        "id": "k5pQCiTtb3bc",
        "outputId": "05a717df-855d-4ccf-f33a-f96edabfdc8b"
      },
      "execution_count": null,
      "outputs": [
        {
          "output_type": "display_data",
          "data": {
            "text/plain": [
              "<Figure size 640x480 with 1 Axes>"
            ],
            "image/png": "[encoded data removed]"
          },
          "metadata": {}
        }
      ]
    },
    {
      "cell_type": "code",
      "source": [
        "#@title Compute new probability\n",
        "P_new = []\n",
        "for i in range (len(dp_labels)):\n",
        "  if i != 0:\n",
        "    P_new.append(sigmoid(new_data_points[dp_labels[0]], new_data_points[dp_labels[i]]))\n",
        "\n",
        "print(\"New Probabilities: \", P_new)"
      ],
      "metadata": {
        "colab": {
          "base_uri": "https://localhost:8080/"
        },
        "id": "E1w2Mb2qb5Xv",
        "outputId": "ba6233c8-3d99-4533-8ac5-ba3dff35642f"
      },
      "execution_count": null,
      "outputs": [
        {
          "output_type": "stream",
          "name": "stdout",
          "text": [
            "New Probabilities:  [0.31367119441399455, 0.26428539289602093, 0.8525661633589757]\n"
          ]
        }
      ]
    },
    {
      "cell_type": "markdown",
      "source": [
        "#### (5) For each of the three tuples and the updated vectors, does the model now make the correct prediction?\n",
        "\n",
        "**Ans:** All of the updated vectors are now able to make the correct predictions."
      ],
      "metadata": {
        "id": "_Y15Zbbaea-t"
      }
    },
    {
      "cell_type": "code",
      "source": [
        "#@title Compute new predictions\n",
        "new_preds = [1 if x > 0.5 else 0 for x in P_new]\n",
        "print(\"New Predictions: \", new_preds)"
      ],
      "metadata": {
        "colab": {
          "base_uri": "https://localhost:8080/"
        },
        "id": "I6Ua-7tpb7-J",
        "outputId": "25d70ab7-6203-43cc-c751-0d58d3239225"
      },
      "execution_count": null,
      "outputs": [
        {
          "output_type": "stream",
          "name": "stdout",
          "text": [
            "New Predictions:  [0, 0, 1]\n"
          ]
        }
      ]
    },
    {
      "cell_type": "markdown",
      "source": [
        "\n",
        "####(6) What is the new loss function value?\n",
        "\n",
        "**Ans:** The New Loss Value is : -0.8428159170506121\n"
      ],
      "metadata": {
        "id": "WKVh8MX7I5Au"
      }
    },
    {
      "cell_type": "code",
      "source": [
        "#@title New Loss value\n",
        "\n",
        "print(\"New loss: \", loss_function(new_data_points))"
      ],
      "metadata": {
        "colab": {
          "base_uri": "https://localhost:8080/"
        },
        "id": "6gdM74Fkb-GE",
        "outputId": "247f9297-2e1a-4679-91b7-09c3e4220415"
      },
      "execution_count": null,
      "outputs": [
        {
          "output_type": "stream",
          "name": "stdout",
          "text": [
            "New loss:  -0.8428159170506121\n"
          ]
        }
      ]
    },
    {
      "cell_type": "markdown",
      "source": [
        "####(7) Describe what has changed and how this will over time work to create word embeddings that represent word similarity. Consider how the predictions, vectors, and loss have changed.\n",
        "\n",
        "**Ans:** The word 'cat' got much closer to the positive context, i.e., litter; it got much further away from the negative contexts, i.e., 'oatmeal' and 'remote.' This demonstrates how word embeddings will work overtime by pulling similar words (positive contexts) closer; hence, semantically similar words will be closer to each other. Their cosine similarity will result in a higher value."
      ],
      "metadata": {
        "id": "4pRnb2Mbeu3Z"
      }
    },
    {
      "cell_type": "markdown",
      "source": [
        "## Part 3 - Evaluating Word2Vec"
      ],
      "metadata": {
        "id": "mlZuRhwcFgw1"
      }
    },
    {
      "cell_type": "markdown",
      "source": [
        "### Part 3(a) - Analogies"
      ],
      "metadata": {
        "id": "Ku-4kyjMFwf2"
      }
    },
    {
      "cell_type": "code",
      "source": [
        "#@title Data Pre-processing\n",
        "\n",
        "def category_lists():\n",
        "  categories = {}\n",
        "  category_name = None\n",
        "  # get the category names and store them in a dictonary\n",
        "  with open(\"analogies.txt\", 'r') as f:\n",
        "    for line in f:\n",
        "      line = line.strip()\n",
        "      if line.startswith(':'):\n",
        "          current_category = line[1:].strip()\n",
        "          categories[current_category] = []\n",
        "      elif current_category:\n",
        "        words = line.split()\n",
        "        categories[current_category].append(words)\n",
        "  return categories"
      ],
      "metadata": {
        "id": "UOEW7_R2FmJ4"
      },
      "execution_count": null,
      "outputs": []
    },
    {
      "cell_type": "code",
      "source": [
        "categories_lists = category_lists()\n",
        "print(categories_lists['capital-common-countries'][:5])"
      ],
      "metadata": {
        "id": "y3f2-HpiOegb",
        "colab": {
          "base_uri": "https://localhost:8080/"
        },
        "outputId": "2ac0a371-13d1-4bec-f37b-8da9cf1dbae9"
      },
      "execution_count": null,
      "outputs": [
        {
          "output_type": "stream",
          "name": "stdout",
          "text": [
            "[['Athens', 'Greece', 'Baghdad', 'Iraq'], ['Athens', 'Greece', 'Bangkok', 'Thailand'], ['Athens', 'Greece', 'Beijing', 'China'], ['Athens', 'Greece', 'Berlin', 'Germany'], ['Athens', 'Greece', 'Bern', 'Switzerland']]\n"
          ]
        }
      ]
    },
    {
      "cell_type": "code",
      "source": [
        "# compute predicted word using pre-trained model\n",
        "def predicted_analogy(analogy_list):\n",
        "  pred_word = GoogleNews_vectors.most_similar(positive=[analogy_list[1],analogy_list[2]], negative=[analogy_list[0]], topn = 1)\n",
        "  return (pred_word[0][0])"
      ],
      "metadata": {
        "id": "AZ2r1ZrtQvky"
      },
      "execution_count": null,
      "outputs": []
    },
    {
      "cell_type": "code",
      "source": [
        "# computation of accuracy\n",
        "def compute_accuracy(category, analogies):\n",
        "    correct = sum(1 for analogy in analogies if analogy[3] == predicted_analogy(analogy))\n",
        "    accuracy = correct / len(analogies)\n",
        "    return category, accuracy"
      ],
      "metadata": {
        "id": "1oEtn6-hmmBf"
      },
      "execution_count": null,
      "outputs": []
    },
    {
      "cell_type": "code",
      "source": [
        "# predicting analogies\n",
        "pred_result = {}\n",
        "\n",
        "for category in categories_lists:\n",
        "  pred_result[category] = []\n",
        "  for analogy in categories_lists[category]:\n",
        "    predicted_word = predicted_analogy(analogy)\n",
        "    pred_result[category].append(analogy[3] == predicted_word)\n",
        "  print('Completed ', category)"
      ],
      "metadata": {
        "id": "xcVfSzLDRuQR",
        "colab": {
          "base_uri": "https://localhost:8080/"
        },
        "outputId": "de5dd523-ce79-446e-b6f9-5c5fad5accca"
      },
      "execution_count": null,
      "outputs": [
        {
          "output_type": "stream",
          "name": "stdout",
          "text": [
            "Completed  capital-common-countries\n",
            "Completed  capital-world\n",
            "Completed  currency\n",
            "Completed  city-in-state\n",
            "Completed  family\n",
            "Completed  gram1-adjective-to-adverb\n",
            "Completed  gram2-opposite\n",
            "Completed  gram3-comparative\n",
            "Completed  gram4-superlative\n",
            "Completed  gram5-present-participle\n",
            "Completed  gram6-nationality-adjective\n",
            "Completed  gram7-past-tense\n",
            "Completed  gram8-plural\n",
            "Completed  gram9-plural-verbs\n"
          ]
        }
      ]
    },
    {
      "cell_type": "code",
      "source": [
        "# compute accuracies\n",
        "accuracies = {}\n",
        "for category in pred_result:\n",
        "  accuracies[category] = sum(pred_result[category])/len(pred_result[category])\n",
        "\n",
        "for accuracy_category in accuracies:\n",
        "  print(\"For category \", accuracy_category, \" the observed accuracy is: \", accuracies[accuracy_category])"
      ],
      "metadata": {
        "colab": {
          "base_uri": "https://localhost:8080/"
        },
        "id": "MK2RM5c4ib45",
        "outputId": "e497209e-a83a-410e-aaf3-db00e2d33e09"
      },
      "execution_count": null,
      "outputs": [
        {
          "output_type": "stream",
          "name": "stdout",
          "text": [
            "For category  capital-common-countries  the observed accuracy is:  0.8320158102766798\n",
            "For category  capital-world  the observed accuracy is:  0.7913351016799293\n",
            "For category  currency  the observed accuracy is:  0.3510392609699769\n",
            "For category  city-in-state  the observed accuracy is:  0.7089582488852858\n",
            "For category  family  the observed accuracy is:  0.8458498023715415\n",
            "For category  gram1-adjective-to-adverb  the observed accuracy is:  0.2852822580645161\n",
            "For category  gram2-opposite  the observed accuracy is:  0.4273399014778325\n",
            "For category  gram3-comparative  the observed accuracy is:  0.9084084084084084\n",
            "For category  gram4-superlative  the observed accuracy is:  0.8734402852049911\n",
            "For category  gram5-present-participle  the observed accuracy is:  0.78125\n",
            "For category  gram6-nationality-adjective  the observed accuracy is:  0.8993120700437773\n",
            "For category  gram7-past-tense  the observed accuracy is:  0.6596153846153846\n",
            "For category  gram8-plural  the observed accuracy is:  0.8986486486486487\n",
            "For category  gram9-plural-verbs  the observed accuracy is:  0.6793103448275862\n"
          ]
        }
      ]
    },
    {
      "cell_type": "markdown",
      "source": [
        "#### Conceptual Questions\n",
        "\n",
        "Report the model’s accuracy by question type. How does the model do?\n",
        "\n",
        "**Ans:** The observed accuracies for each category is:\n",
        "<br>1. For category  capital-common-countries  the observed accuracy is:  0.8320158102766798\n",
        "<br>2. For category  capital-world  the observed accuracy is:  0.7913351016799293\n",
        "<br>3. For category  currency  the observed accuracy is:  0.3510392609699769\n",
        "<br>4. For category  city-in-state  the observed accuracy is:  0.7089582488852858\n",
        "<br>5. For category  family  the observed accuracy is:  0.8458498023715415\n",
        "<br>6. For category  gram1-adjective-to-adverb  the observed accuracy is:  0.2852822580645161\n",
        "<br>7. For category  gram2-opposite  the observed accuracy is:  0.4273399014778325\n",
        "<br>8. For category  gram3-comparative  the observed accuracy is:  0.9084084084084084\n",
        "<br>9. For category  gram4-superlative  the observed accuracy is:  0.8734402852049911\n",
        "<br>10. For category  gram5-present-participle  the observed accuracy is:  0.78125\n",
        "<br>11. For category  gram6-nationality-adjective  the observed accuracy is:  0.8993120700437773\n",
        "<br>12. For category  gram7-past-tense  the observed accuracy is:  0.6596153846153846\n",
        "<br>13. For category  gram8-plural  the observed accuracy is:  0.8986486486486487\n",
        "<br>14. For category  gram9-plural-verbs  the observed accuracy is:  0.6793103448275862\n",
        "\n",
        "For most categories it has done well apart from currencies, adjective to adverb, opposites, past tense, and pural verbs.\n",
        "\n"
      ],
      "metadata": {
        "id": "-OvKAdKiE1Bw"
      }
    },
    {
      "cell_type": "markdown",
      "source": [
        "Do you notice patterns in what types of analogies it handles well and what kinds of analogies it handles poorly?\n",
        "\n",
        "\n",
        "**Ans:** It performs well in data that tends to occur in the pre-training data. It handled geographical data, relationship data, and lexical data well. It performed poorly in different word forms, such as adjectives, adverbs, and opposites. It also performed poorly in currencies; perhaps the model was not exposed to enough data to capture all the currencies."
      ],
      "metadata": {
        "id": "3gMzYaZUk1tZ"
      }
    },
    {
      "cell_type": "markdown",
      "source": [
        "### Part3(b) - TOEFL Dataset"
      ],
      "metadata": {
        "id": "g3SkOdVNGBBB"
      }
    },
    {
      "cell_type": "markdown",
      "source": [
        "Note: Changed the spelling of tranquillity to tranquility."
      ],
      "metadata": {
        "id": "2eGMGqwpAJJ-"
      }
    },
    {
      "cell_type": "code",
      "source": [
        "#@title Data Pre-processing\n",
        "\n",
        "# getting a list of list of the questions\n",
        "def questions():\n",
        "  # get the questions\n",
        "  toefl_question_list = []\n",
        "  with open(\"toefl.txt\", 'r') as f:\n",
        "    for line in f:\n",
        "      line = line.lower().strip()\n",
        "      toefl_question_list.append(line.split())\n",
        "  return toefl_question_list"
      ],
      "metadata": {
        "id": "B8uBfldRGFYa"
      },
      "execution_count": null,
      "outputs": []
    },
    {
      "cell_type": "code",
      "source": [
        "question_list = questions()"
      ],
      "metadata": {
        "id": "oM7Q7ChI64m4"
      },
      "execution_count": null,
      "outputs": []
    },
    {
      "cell_type": "code",
      "source": [
        "# compute similarity scores for each word and find the word with maximum similarity\n",
        "def predict_synonym(text):\n",
        "  pred_synonym = []\n",
        "  accuracy = []\n",
        "  for question in question_list:\n",
        "      target = question[1]\n",
        "      test_word = question[0]\n",
        "      pred_words = []\n",
        "      for w in question[1:]:\n",
        "        pred_words.append(GoogleNews_vectors.similarity(w, test_word))\n",
        "      max_similarity = np.argmax(np.array(pred_words))\n",
        "      pred_synonym.append([target, question[max_similarity+1]])\n",
        "      accuracy.append(1 if (question[max_similarity+1] == target) else 0)\n",
        "  return pred_synonym, accuracy\n",
        "\n",
        "predictions, accuracies = predict_synonym(question_list)\n",
        "print(\"Predictions: \",predictions)"
      ],
      "metadata": {
        "id": "2ssIvG3d669F",
        "colab": {
          "base_uri": "https://localhost:8080/"
        },
        "outputId": "1849ca82-f328-4532-ac8c-bbb002d56eff"
      },
      "execution_count": null,
      "outputs": [
        {
          "output_type": "stream",
          "name": "stdout",
          "text": [
            "Predictions:  [['tremendously', 'tremendously'], ['stipulation', 'stipulation'], ['randomly', 'randomly'], ['conspicuous', 'conspicuous'], ['pinnacle', 'pinnacle'], ['imperfect', 'imperfect'], ['desperately', 'desperately'], ['eat', 'eat'], ['come', 'stability'], ['succinctly', 'succinctly'], ['greet', 'ceremony'], ['alone', 'restless'], ['accelerate', 'accelerate'], ['endurance', 'generosity'], ['imaginative', 'imaginative'], ['demonstrate', 'demonstrate'], ['continually', 'continually'], ['subject', 'subject'], ['supply', 'impress'], ['expensive', 'expensive'], ['acknowledge', 'acknowledge'], ['location', 'location'], ['earn', 'earn'], ['frequently', 'frequently'], ['relax', 'relax'], ['argument', 'argument'], ['thin', 'thin'], ['plan', 'explain'], ['limitless', 'limitless'], ['strike', 'prickly'], ['impose', 'impose'], ['skillfully', 'skillfully'], ['circulate', 'commercialize'], ['difference', 'difference'], ['productive', 'productive'], ['unequaled', 'unequaled'], ['uniquely', 'uniquely'], ['color', 'color'], ['rear', 'rear'], ['accentuate', 'accentuate'], ['hurriedly', 'hurriedly'], ['mild', 'mild'], ['smile', 'smile'], ['orally', 'orally'], ['doctor', 'doctor'], ['basically', 'basically'], ['sharp', 'useful'], ['position', 'isolate'], ['major', 'major'], ['gradually', 'gradually'], ['construct', 'construct'], ['job', 'job'], ['improbable', 'improbable'], ['apathetically', 'apathetically'], ['chronicle', 'chronicle'], ['furiously', 'furiously'], ['acclaim', 'remember'], ['mastery', 'mastery'], ['devise', 'devise'], ['potential', 'potential'], ['broadly', 'broadly'], ['prolong', 'prolong'], ['dangerous', 'dangerous'], ['peacefulness', 'peacefulness'], ['disperse', 'disperse'], ['chiefly', 'chiefly'], ['conversational', 'conversational'], ['settle', 'settle'], ['possible', 'possible'], ['rapidly', 'rapidly'], ['proportion', 'proportion'], ['end', 'postpone'], ['alike', 'alike'], ['solve', 'solve'], ['enough', 'enough'], ['manner', 'manner'], ['sell', 'sell'], ['large', 'large'], ['origin', 'cure'], ['ordinarily', 'ordinarily']]\n"
          ]
        }
      ]
    },
    {
      "cell_type": "code",
      "source": [
        "# compute accuracy score\n",
        "accuracy_score = len(np.where(np.array(accuracies) == 1)[0])/len(accuracies)\n",
        "print(\"The Accuracy of the pre-trained model on TOEFL data set is: \", accuracy_score*100)"
      ],
      "metadata": {
        "id": "09JnbT2F7l2V",
        "colab": {
          "base_uri": "https://localhost:8080/"
        },
        "outputId": "b389999e-5455-4a97-fd24-8d0a977963de"
      },
      "execution_count": null,
      "outputs": [
        {
          "output_type": "stream",
          "name": "stdout",
          "text": [
            "The Accuracy of the pre-trained model on TOEFL data set is:  83.75\n"
          ]
        }
      ]
    },
    {
      "cell_type": "code",
      "source": [
        "#@title Random Prediction accuracy\n",
        "def rand_synonym(text):\n",
        "  pred_rand = []\n",
        "  accuracy_rand = []\n",
        "  for question in question_list:\n",
        "      target = question[1]\n",
        "      rand_pred = question[random.randint(1,4)]\n",
        "      pred_rand.append([target, rand_pred])\n",
        "      accuracy_rand.append(1 if (rand_pred == target) else 0)\n",
        "  return pred_rand, accuracy_rand\n",
        "\n",
        "rand_predictions, rand_accuracies = rand_synonym(question_list)\n",
        "print(\"Predictions: \",rand_predictions)\n",
        "\n",
        "# compute accuracy score for random predictions\n",
        "rand_accuracy_score = len(np.where(np.array(rand_accuracies) == 1)[0])/len(rand_accuracies)\n",
        "print(\"The Accuracy of the pre-trained model on TOEFL data set is: \", rand_accuracy_score*100)"
      ],
      "metadata": {
        "colab": {
          "base_uri": "https://localhost:8080/"
        },
        "id": "YJMIpEeZ-C17",
        "outputId": "0203147e-af89-47c0-ee5a-b4dc9f0a9069"
      },
      "execution_count": null,
      "outputs": [
        {
          "output_type": "stream",
          "name": "stdout",
          "text": [
            "Predictions:  [['tremendously', 'tremendously'], ['stipulation', 'interpretation'], ['randomly', 'densely'], ['conspicuous', 'batter'], ['pinnacle', 'completion'], ['imperfect', 'lustrous'], ['desperately', 'tentatively'], ['eat', 'catch'], ['come', 'arrest'], ['succinctly', 'freely'], ['greet', 'privilege'], ['alone', 'alert'], ['accelerate', 'permit'], ['endurance', 'generosity'], ['imaginative', 'logical'], ['demonstrate', 'demonstrate'], ['continually', 'rapidly'], ['subject', 'subject'], ['supply', 'impress'], ['expensive', 'beautiful'], ['acknowledge', 'successful'], ['location', 'latitude'], ['earn', 'print'], ['frequently', 'chemically'], ['relax', 'bore'], ['argument', 'argument'], ['thin', 'thin'], ['plan', 'plan'], ['limitless', 'limitless'], ['strike', 'entertain'], ['impose', 'correlate'], ['skillfully', 'prudently'], ['circulate', 'research'], ['difference', 'deposit'], ['productive', 'promise'], ['unequaled', 'unequaled'], ['uniquely', 'patriotically'], ['color', 'glare'], ['rear', 'rear'], ['accentuate', 'restore'], ['hurriedly', 'hurriedly'], ['mild', 'cold'], ['smile', 'smile'], ['orally', 'orally'], ['doctor', 'doctor'], ['basically', 'basically'], ['sharp', 'useful'], ['position', 'position'], ['major', 'major'], ['gradually', 'rarely'], ['construct', 'construct'], ['job', 'shop'], ['improbable', 'unpopular'], ['apathetically', 'apathetically'], ['chronicle', 'trail'], ['furiously', 'distinctively'], ['acclaim', 'address'], ['mastery', 'observation'], ['devise', 'supervise'], ['potential', 'prominent'], ['broadly', 'controversially'], ['prolong', 'prolong'], ['dangerous', 'dangerous'], ['peacefulness', 'happiness'], ['disperse', 'disguise'], ['chiefly', 'chiefly'], ['conversational', 'misunderstand'], ['settle', 'settle'], ['possible', 'evident'], ['rapidly', 'rapidly'], ['proportion', 'volume'], ['end', 'postpone'], ['alike', 'complex'], ['solve', 'divide'], ['enough', 'physiological'], ['manner', 'ration'], ['sell', 'freeze'], ['large', 'good'], ['origin', 'origin'], ['ordinarily', 'permanently']]\n",
            "The Accuracy of the pre-trained model on TOEFL data set is:  30.0\n"
          ]
        }
      ]
    },
    {
      "cell_type": "markdown",
      "source": [
        "#### Conceptual Questions\n",
        "\n",
        "Report overall accuracy.\n",
        "\n",
        "**Ans** *Overall accuracy was 83.75%*\n",
        "\n",
        "How does this compare to chance performance (i.e., the performance you’d expect if the model just chose an answer at random)?\n",
        "\n",
        "**Ans:** *If we consider a model that selects an answer at random, its accuracy was found to be 30%.(average 25%)*\n",
        "\n",
        "Are any pattern noticable in the types of questions the model's answers correctly or not?\n",
        "\n",
        "**Ans:** *I did notice some pattern for a few words for example, 'salute' is predicted to be most similar to ceremony instead of greet. 'solitary' is found to be most similar to restless instead of 'alone'. For these two cases, due to the training data set, the model has considered the syntactic meanings instead of semantic meanings. However, other I could not identify patterns for the other pairs.*"
      ],
      "metadata": {
        "id": "QuQMZovQ7p0q"
      }
    }
  ]
}